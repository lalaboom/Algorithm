{
 "cells": [
  {
   "cell_type": "code",
   "execution_count": 2,
   "metadata": {},
   "outputs": [
    {
     "ename": "SyntaxError",
     "evalue": "invalid character in identifier (<ipython-input-2-027fb5b461bb>, line 1)",
     "output_type": "error",
     "traceback": [
      "\u001b[1;36m  File \u001b[1;32m\"<ipython-input-2-027fb5b461bb>\"\u001b[1;36m, line \u001b[1;32m1\u001b[0m\n\u001b[1;33m    特征：\u001b[0m\n\u001b[1;37m      ^\u001b[0m\n\u001b[1;31mSyntaxError\u001b[0m\u001b[1;31m:\u001b[0m invalid character in identifier\n"
     ]
    }
   ],
   "source": [
    "特征：\n",
    "   'label','popularity','carCommentVolum','newsReplyVolum'平移了12个月\n",
    "    train:\n",
    "        1,  2,  3,  4,  5,  6,  7,  8,  9,  10,  11,  12\n",
    "        13, 14, 15, 16, 17, 18, 19, 20, 21, 22,  23,  24 \n",
    "        25, 26, 27, 28\n",
    "        \n",
    "    test: 21,22,23,24"
   ]
  },
  {
   "cell_type": "code",
   "execution_count": 1,
   "metadata": {},
   "outputs": [],
   "source": [
    "# import sys\n",
    "import numpy as np\n",
    "import pandas as pd\n",
    "# import os \n",
    "# import gc\n",
    "from tqdm import tqdm, tqdm_notebook\n",
    "from sklearn.model_selection import StratifiedKFold, KFold\n",
    "\n",
    "from sklearn.metrics import f1_score, roc_auc_score\n",
    "from sklearn.metrics import mean_squared_error as mse\n",
    "from sklearn.preprocessing import LabelEncoder\n",
    "lbl = LabelEncoder()\n",
    "import datetime\n",
    "import time\n",
    "import lightgbm as lgb\n",
    "import xgboost as xgb\n",
    "import warnings\n",
    "from sklearn.cluster import KMeans\n",
    "warnings.simplefilter(action='ignore', category=FutureWarning)\n",
    "warnings.filterwarnings('ignore')\n",
    "pd.set_option('display.max_columns', None)\n",
    "pd.set_option('display.max_rows', None)"
   ]
  },
  {
   "cell_type": "code",
   "execution_count": 22,
   "metadata": {},
   "outputs": [
    {
     "data": {
      "text/html": [
       "<div>\n",
       "<style scoped>\n",
       "    .dataframe tbody tr th:only-of-type {\n",
       "        vertical-align: middle;\n",
       "    }\n",
       "\n",
       "    .dataframe tbody tr th {\n",
       "        vertical-align: top;\n",
       "    }\n",
       "\n",
       "    .dataframe thead th {\n",
       "        text-align: right;\n",
       "    }\n",
       "</style>\n",
       "<table border=\"1\" class=\"dataframe\">\n",
       "  <thead>\n",
       "    <tr style=\"text-align: right;\">\n",
       "      <th></th>\n",
       "      <th>adcode</th>\n",
       "      <th>bodyType</th>\n",
       "      <th>forecastVolum</th>\n",
       "      <th>id</th>\n",
       "      <th>model</th>\n",
       "      <th>province</th>\n",
       "      <th>regMonth</th>\n",
       "      <th>regYear</th>\n",
       "      <th>salesVolume</th>\n",
       "      <th>popularity</th>\n",
       "      <th>carCommentVolum</th>\n",
       "      <th>newsReplyVolum</th>\n",
       "      <th>label</th>\n",
       "      <th>mt</th>\n",
       "      <th>pred_label</th>\n",
       "    </tr>\n",
       "  </thead>\n",
       "  <tbody>\n",
       "    <tr>\n",
       "      <td>36955</td>\n",
       "      <td>350000</td>\n",
       "      <td>0</td>\n",
       "      <td>NaN</td>\n",
       "      <td>5364</td>\n",
       "      <td>59</td>\n",
       "      <td>福建</td>\n",
       "      <td>4</td>\n",
       "      <td>2018</td>\n",
       "      <td>NaN</td>\n",
       "      <td>NaN</td>\n",
       "      <td>NaN</td>\n",
       "      <td>NaN</td>\n",
       "      <td>NaN</td>\n",
       "      <td>28</td>\n",
       "      <td>0</td>\n",
       "    </tr>\n",
       "    <tr>\n",
       "      <td>36956</td>\n",
       "      <td>210000</td>\n",
       "      <td>0</td>\n",
       "      <td>NaN</td>\n",
       "      <td>5365</td>\n",
       "      <td>59</td>\n",
       "      <td>辽宁</td>\n",
       "      <td>4</td>\n",
       "      <td>2018</td>\n",
       "      <td>NaN</td>\n",
       "      <td>NaN</td>\n",
       "      <td>NaN</td>\n",
       "      <td>NaN</td>\n",
       "      <td>NaN</td>\n",
       "      <td>28</td>\n",
       "      <td>0</td>\n",
       "    </tr>\n",
       "    <tr>\n",
       "      <td>36957</td>\n",
       "      <td>500000</td>\n",
       "      <td>0</td>\n",
       "      <td>NaN</td>\n",
       "      <td>5366</td>\n",
       "      <td>59</td>\n",
       "      <td>重庆</td>\n",
       "      <td>4</td>\n",
       "      <td>2018</td>\n",
       "      <td>NaN</td>\n",
       "      <td>NaN</td>\n",
       "      <td>NaN</td>\n",
       "      <td>NaN</td>\n",
       "      <td>NaN</td>\n",
       "      <td>28</td>\n",
       "      <td>0</td>\n",
       "    </tr>\n",
       "    <tr>\n",
       "      <td>36958</td>\n",
       "      <td>610000</td>\n",
       "      <td>0</td>\n",
       "      <td>NaN</td>\n",
       "      <td>5367</td>\n",
       "      <td>59</td>\n",
       "      <td>陕西</td>\n",
       "      <td>4</td>\n",
       "      <td>2018</td>\n",
       "      <td>NaN</td>\n",
       "      <td>NaN</td>\n",
       "      <td>NaN</td>\n",
       "      <td>NaN</td>\n",
       "      <td>NaN</td>\n",
       "      <td>28</td>\n",
       "      <td>0</td>\n",
       "    </tr>\n",
       "    <tr>\n",
       "      <td>36959</td>\n",
       "      <td>230000</td>\n",
       "      <td>0</td>\n",
       "      <td>NaN</td>\n",
       "      <td>5368</td>\n",
       "      <td>59</td>\n",
       "      <td>黑龙江</td>\n",
       "      <td>4</td>\n",
       "      <td>2018</td>\n",
       "      <td>NaN</td>\n",
       "      <td>NaN</td>\n",
       "      <td>NaN</td>\n",
       "      <td>NaN</td>\n",
       "      <td>NaN</td>\n",
       "      <td>28</td>\n",
       "      <td>0</td>\n",
       "    </tr>\n",
       "  </tbody>\n",
       "</table>\n",
       "</div>"
      ],
      "text/plain": [
       "       adcode  bodyType  forecastVolum    id  model province  regMonth  \\\n",
       "36955  350000         0            NaN  5364     59       福建         4   \n",
       "36956  210000         0            NaN  5365     59       辽宁         4   \n",
       "36957  500000         0            NaN  5366     59       重庆         4   \n",
       "36958  610000         0            NaN  5367     59       陕西         4   \n",
       "36959  230000         0            NaN  5368     59      黑龙江         4   \n",
       "\n",
       "       regYear  salesVolume  popularity  carCommentVolum  newsReplyVolum  \\\n",
       "36955     2018          NaN         NaN              NaN             NaN   \n",
       "36956     2018          NaN         NaN              NaN             NaN   \n",
       "36957     2018          NaN         NaN              NaN             NaN   \n",
       "36958     2018          NaN         NaN              NaN             NaN   \n",
       "36959     2018          NaN         NaN              NaN             NaN   \n",
       "\n",
       "       label  mt  pred_label  \n",
       "36955    NaN  28           0  \n",
       "36956    NaN  28           0  \n",
       "36957    NaN  28           0  \n",
       "36958    NaN  28           0  \n",
       "36959    NaN  28           0  "
      ]
     },
     "execution_count": 22,
     "metadata": {},
     "output_type": "execute_result"
    }
   ],
   "source": [
    "# path  = './ccf_car/'\n",
    "train_sales  = pd.read_csv('train_sales_data.csv')\n",
    "\n",
    "\n",
    "train_search = pd.read_csv('train_search_data.csv')\n",
    "train_user   = pd.read_csv('train_user_reply_data.csv')\n",
    "evaluation_public = pd.read_csv('evaluation_public.csv')\n",
    "# submit_example    = pd.read_csv('submit_example.csv')\n",
    "data = pd.concat([train_sales, evaluation_public], ignore_index=True)\n",
    "data = data.merge(train_search, 'left', on=['province', 'adcode', 'model', 'regYear', 'regMonth'])\n",
    "data = data.merge(train_user, 'left', on=['model', 'regYear', 'regMonth'])\n",
    "data['label'] = data['salesVolume']\n",
    "data['id'] = data['id'].fillna(0).astype(int)\n",
    "data['bodyType'] = data['model'].map(train_sales.drop_duplicates('model').set_index('model')['bodyType'])\n",
    "#索引-->value\n",
    "#LabelEncoder\n",
    "for i in ['bodyType', 'model']:\n",
    "    data[i] = data[i].map(dict(zip(data[i].unique(), range(data[i].nunique()))))\n",
    "    #key-->value\n",
    "data['mt'] = (data['regYear'] - 2016) * 12 + data['regMonth']\n",
    "initial_key_list = ['adcode','bodyType','forecastVolum','id','model','province','regMonth','regYear','salesVolume','popularity','carCommentVolum','newsReplyVolum'\t,'label','mt']\n",
    "data = data[initial_key_list].copy()\n",
    "data['pred_label'] = 0\n",
    "#去掉12月\n",
    "data = data[~(data['mt']==12)]\n",
    "data = data[~(data['mt']==24)]\n",
    "data.tail()"
   ]
  },
  {
   "cell_type": "code",
   "execution_count": 23,
   "metadata": {},
   "outputs": [],
   "source": [
    "def Cluster(df_,pred_month): \n",
    "    df_['cluster_label']  =-1\n",
    "    df = df_[df_['mt']<pred_month]\n",
    "    df= df[['adcode','model','mt','label']].set_index(['model','adcode','mt']).reset_index()\n",
    "    kmeans = KMeans(n_clusters = 3) \n",
    "    kmeans.fit(df.values)\n",
    "    df_.loc[df_['mt']<pred_month,'cluster_label'] =  kmeans.labels_\n",
    "#     print(df.head())\n",
    "#     df = df.merge(df,'left',on = ['adcode','model','mt','label'])\n",
    "    return df_\n",
    "\n",
    "\n"
   ]
  },
  {
   "cell_type": "code",
   "execution_count": 24,
   "metadata": {},
   "outputs": [],
   "source": [
    "def windows_feature(data):\n",
    "#     if (judge >1):\n",
    "    print(\"windows_var_features start\")\n",
    "    df = data.copy()\n",
    "    df_all = pd.DataFrame()\n",
    "    df['model_adcode'] = df['adcode'] + df['model']\n",
    "    model_adcode = list(df.model_adcode.unique())\n",
    "    for i in tqdm(model_adcode):\n",
    "        idx = (df['model_adcode']==i)\n",
    "        df2 = df[idx] \n",
    "\n",
    "        df2['windows3_var'] = df2['label'].rolling(3).var()\n",
    "        df2['windows5_var'] = df2['label'].rolling(5).var()\n",
    "        df2['windows7_var'] = df2['label'].rolling(7).var()\n",
    "\n",
    "        df2['windows3_var'] = df2['windows3_var'].rolling(3).var()\n",
    "        df2['windows5_var'] = df2['windows5_var'].rolling(5).var()\n",
    "        df2['windows7_var'] = df2['windows7_var'].rolling(7).var()\n",
    "\n",
    "        df_all = pd.concat([df_all, df2], ignore_index=True)\n",
    "    data = data.merge(df_all, 'left', on=['cluster_label','adcode','bodyType','forecastVolum','id','model','province','regMonth','regYear','salesVolume','popularity','carCommentVolum','newsReplyVolum','pred_label','label','mt'])\n",
    "    print(\"windows_var_features end\")\n",
    "    return data\n",
    "\n",
    "        "
   ]
  },
  {
   "cell_type": "code",
   "execution_count": 25,
   "metadata": {},
   "outputs": [],
   "source": [
    "def get_stat_feature(df_):   \n",
    "    df = df_.copy()\n",
    "    stat_feat = []\n",
    "    df['model_adcode'] = df['adcode'] + df['model']\n",
    "    df['model_adcode_mt'] = df['model_adcode'] * 100 + df['mt']\n",
    "    for col in tqdm(['label','popularity','newsReplyVolum']):#,'newsReplyVolum'\n",
    "    # shift\n",
    "        for i in [1,2,3,4,5,6,7,8,9,10,11]:\n",
    "            stat_feat.append('shift_model_adcode_mt_{}_{}'.format(col,i))\n",
    "            df['model_adcode_mt_{}_{}'.format(col,i)] = df['model_adcode_mt'] + i\n",
    "            df_last = df[~df[col].isnull()].set_index('model_adcode_mt_{}_{}'.format(col,i))\n",
    "            df['shift_model_adcode_mt_{}_{}'.format(col,i)] = df['model_adcode_mt'].map(df_last[col])\n",
    "# \n",
    "#     for i in [1]: #本月销量和前1-3,12个月相减\n",
    "#         df[\"differ_{}_{}\".format(col,i)] = df['{}'.format(col)] -df['shift_model_adcode_mt_{}_{}'.format(col,i)]\n",
    "#         df[\"differ2_{}_{}\".format(col,i)] = df[\"differ_{}_{}\".format(col,i)]-df.groupby('model_adcode')[\"differ_{}_{}\".format(col,i)].shift(1)\n",
    "#         stat_feat.append(\"differ2_{}_{}\".format(col,i))\n",
    "\n",
    "#         df[\"ratio_{}_{}\".format(col,i)] = df['{}'.format(col)] /df['shift_model_adcode_mt_{}_{}'.format(col,i)]\n",
    "#         df[\"ratio2_{}_{}\".format(col,i)] = df[\"ratio_{}_{}\".format(col,i)]/df.groupby('model_adcode')[\"ratio_{}_{}\".format(col,i)].shift(1)\n",
    "#         stat_feat.append(\"ratio2_{}_{}\".format(col,i))\n",
    "    return df,stat_feat"
   ]
  },
  {
   "cell_type": "code",
   "execution_count": 26,
   "metadata": {},
   "outputs": [],
   "source": [
    "def get_stat_feature2(df_):  #bodytype+省份\n",
    "    df = df_.copy()\n",
    "    print(df.shape)\n",
    "    stat2_feat = []\n",
    "    df['body_adcode'] = df['adcode'] + df['bodyType']\n",
    "    df['body_adcode_mt'] = df['body_adcode'] * 100 + df['mt']\n",
    "    df2 = df.copy()\n",
    "    for col in tqdm(['label','popularity','newsReplyVolum']):\n",
    "        df = df.groupby(['bodyType','adcode','body_adcode','mt','body_adcode_mt'])[col].mean().reset_index()\n",
    "        for i in [1,2,3,4,5,6,7,8,9,10,11]:\n",
    "            df['shift_{}_{}_body_adcode'.format(col,i)] = df.groupby('body_adcode')[col].shift(i)\n",
    "            stat2_feat.append('shift_{}_{}_body_adcode'.format(col,i))\n",
    "        df2 = df2.merge(df,'left',on = ['bodyType','adcode','mt','body_adcode_mt','body_adcode',col])\n",
    "        df = df2.copy()\n",
    "    \n",
    "    return df2,stat2_feat"
   ]
  },
  {
   "cell_type": "code",
   "execution_count": 27,
   "metadata": {},
   "outputs": [],
   "source": [
    "def get_stat_feature3(df_):  #省份\n",
    "    df = df_.copy()\n",
    "    print(df.shape)\n",
    "    stat3_feat = []\n",
    "#     df['adcode'] = df['adcode'] + df['bodyType']\n",
    "    df['adcode_mt'] = df['adcode'] * 100 + df['mt']\n",
    "    df2 = df.copy()\n",
    "    for col in tqdm(['label','popularity','newsReplyVolum']):\n",
    "        df = df.groupby(['adcode','mt','adcode_mt'])[col].mean().reset_index()\n",
    "        for i in [1,2,3,4,5,6,7,8,9,10,11]:\n",
    "            df['shift_{}_{}_adcode'.format(col,i)] = df.groupby('adcode')[col].shift(i)\n",
    "            stat3_feat.append('shift_{}_{}_adcode'.format(col,i))\n",
    "        df2 = df2.merge(df,'left',on = ['adcode','mt','adcode_mt',col])\n",
    "        df = df2.copy()\n",
    "    return df2,stat3_feat\n"
   ]
  },
  {
   "cell_type": "code",
   "execution_count": 28,
   "metadata": {},
   "outputs": [],
   "source": [
    "def valid_score(data, pred='pred_label', label='label', group='model'):\n",
    "    data['pred_label'] = data['pred_label'].apply(lambda x: 0 if x < 0 else x).round().astype(int)\n",
    "    data_agg = data.groupby('model').agg({\n",
    "        pred:  list,\n",
    "        label: [list, 'mean']\n",
    "    }).reset_index()\n",
    "    data_agg.columns = ['_'.join(col).strip() for col in data_agg.columns]\n",
    "    nrmse_score = []\n",
    "    for raw in data_agg[['{0}_list'.format(pred), '{0}_list'.format(label), '{0}_mean'.format(label)]].values:\n",
    "        nrmse_score.append(\n",
    "            mse(raw[0], raw[1]) ** 0.5 / raw[2]\n",
    "        )\n",
    "    print(1 - np.mean(nrmse_score))\n",
    "    return 1 - np.mean(nrmse_score)"
   ]
  },
  {
   "cell_type": "code",
   "execution_count": 29,
   "metadata": {},
   "outputs": [],
   "source": [
    "def online_score(data, pred='pred_label', label='true_sales', group='model'):\n",
    "    data['pred_label'] = data['pred_label'].apply(lambda x: 0 if x < 0 else x).round().astype(int)\n",
    "    y = pd.read_csv(\"valid_data_y.csv\")\n",
    "    data = data.merge(y, 'left', on=['id'])\n",
    "    data_agg = data.groupby('model').agg({\n",
    "        pred:  list,\n",
    "        label: [list, 'mean']\n",
    "    }).reset_index()\n",
    "    data_agg.columns = ['_'.join(col).strip() for col in data_agg.columns]\n",
    "    nrmse_score = []\n",
    "    for raw in data_agg[['{0}_list'.format(pred), '{0}_list'.format(label), '{0}_mean'.format(label)]].values:\n",
    "        nrmse_score.append(\n",
    "            mse(raw[0], raw[1]) ** 0.5 / raw[2]\n",
    "        )\n",
    "    print(1 - np.mean(nrmse_score))\n",
    "    return 1 - np.mean(nrmse_score)"
   ]
  },
  {
   "cell_type": "code",
   "execution_count": 30,
   "metadata": {},
   "outputs": [],
   "source": [
    "def get_model_type(train_x,train_y,valid_x,valid_y,m_type='lgb'):   \n",
    "    if m_type == 'lgb':\n",
    "        model = lgb.LGBMRegressor(\n",
    "                                num_leaves=2**5-1, reg_alpha=0.25, reg_lambda=0.25, objective='mse',\n",
    "                                max_depth=-1, learning_rate=0.01, min_child_samples=1, random_state=1024,\n",
    "                                n_estimators=2000, subsample=0.9, colsample_bytree=0.7,\n",
    "                                )\n",
    "        model.fit(train_x, train_y, \n",
    "                  \n",
    "              eval_set=[(train_x, train_y),(valid_x, valid_y)], \n",
    "              categorical_feature=cate_feat, \n",
    "              early_stopping_rounds=100, verbose=100)      \n",
    "    elif m_type == 'xgb':\n",
    "        model = xgb.XGBRegressor(\n",
    "                                max_depth=5 , learning_rate=0.01, n_estimators=4000, \n",
    "                                objective='reg:gamma', tree_method = 'hist',subsample=0.9, \n",
    "                                colsample_bytree=0.7, min_child_samples=5,eval_metric = 'rmse' \n",
    "                                )\n",
    "        model.fit(train_x, train_y, \n",
    "              eval_set=[(train_x, train_y),(valid_x, valid_y)], \n",
    "              early_stopping_rounds=100, verbose=100)   \n",
    "    return model"
   ]
  },
  {
   "cell_type": "code",
   "execution_count": 31,
   "metadata": {},
   "outputs": [],
   "source": [
    "def get_train_model(df_, m, m_type):\n",
    "    df = df_.copy()\n",
    "    # 数据集划分\n",
    "    st = 8\n",
    "    all_idx   = (df['mt'].between(st , m-1))\n",
    "    train_idx = (df['mt'].between(st , m-6))\n",
    "    valid_idx = (df['mt'].between(m-5, m-5))\n",
    "    test_idx  = (df['mt'].between(m  , m  ))\n",
    "    \n",
    "    print('all_idx  :',st ,m-1)\n",
    "    print('train_idx:',st ,m-5)\n",
    "    \n",
    "        \n",
    "    print('valid_idx:',m-4,m-4)\n",
    "    print('test_idx :',m  ,m  )  \n",
    "    # 最终确认\n",
    "    train_x = df[train_idx][features]\n",
    "    train_y = df[train_idx]['label']\n",
    "    valid_x = df[valid_idx][features]\n",
    "    valid_y = df[valid_idx]['label']   \n",
    "    # get model\n",
    "    model = get_model_type(train_x,train_y,valid_x,valid_y,m_type)  \n",
    "    # offline\n",
    "    df['pred_label'] = model.predict(df[features])\n",
    "    best_score = valid_score(df[valid_idx]) \n",
    "    # online\n",
    "    if m_type == 'lgb':\n",
    "        model.n_estimators = model.best_iteration_ + 100\n",
    "        model.fit(df[all_idx][features], df[all_idx]['label'], categorical_feature=cate_feat)\n",
    "    elif m_type == 'xgb':\n",
    "        model.n_estimators = model.best_iteration + 100\n",
    "        model.fit(df[all_idx][features], df[all_idx]['label'])\n",
    "    df['forecastVolum'] = model.predict(df[features])\n",
    "    print('valid mean:',df[valid_idx]['pred_label'].mean())\n",
    "    print('true  mean:',df[valid_idx]['label'].mean())\n",
    "    print('test  mean:',df[test_idx]['forecastVolum'].mean())\n",
    "    print(\"--------------------------\")\n",
    "    # 阶段结果\n",
    "    sub = df[test_idx][['id']]\n",
    "    sub['forecastVolum'] = df[test_idx]['forecastVolum'].apply(lambda x: 0 if x < 0 else x).round().astype(int)\n",
    "    print(sub.shape)\n",
    "    return sub,df[valid_idx]['pred_label']"
   ]
  },
  {
   "cell_type": "code",
   "execution_count": 32,
   "metadata": {},
   "outputs": [
    {
     "name": "stdout",
     "output_type": "stream",
     "text": [
      "windows_var_features start\n"
     ]
    },
    {
     "name": "stderr",
     "output_type": "stream",
     "text": [
      "100%|██████████████████████████████████████████████████████████████████████████████| 1320/1320 [00:17<00:00, 73.94it/s]\n"
     ]
    },
    {
     "name": "stdout",
     "output_type": "stream",
     "text": [
      "windows_var_features end\n"
     ]
    },
    {
     "name": "stderr",
     "output_type": "stream",
     "text": [
      "100%|████████████████████████████████████████████████████████████████████████████████████| 3/3 [00:01<00:00,  2.27it/s]\n"
     ]
    },
    {
     "name": "stdout",
     "output_type": "stream",
     "text": [
      "(34320, 87)\n"
     ]
    },
    {
     "name": "stderr",
     "output_type": "stream",
     "text": [
      "100%|████████████████████████████████████████████████████████████████████████████████████| 3/3 [00:00<00:00,  7.14it/s]\n"
     ]
    },
    {
     "name": "stdout",
     "output_type": "stream",
     "text": [
      "(34320, 122)\n"
     ]
    },
    {
     "name": "stderr",
     "output_type": "stream",
     "text": [
      "100%|████████████████████████████████████████████████████████████████████████████████████| 3/3 [00:00<00:00,  5.99it/s]\n"
     ]
    },
    {
     "name": "stdout",
     "output_type": "stream",
     "text": [
      "xxxxxxxxxxxxxxxxxx\n",
      "110 110\n",
      "all_idx  : 8 24\n",
      "train_idx: 8 20\n",
      "valid_idx: 21 21\n",
      "test_idx : 25 25\n",
      "Training until validation scores don't improve for 100 rounds.\n",
      "[100]\ttraining's l2: 97911.1\tvalid_1's l2: 127696\n",
      "[200]\ttraining's l2: 30398.9\tvalid_1's l2: 41808.8\n",
      "[300]\ttraining's l2: 16455.7\tvalid_1's l2: 26464.1\n",
      "[400]\ttraining's l2: 11813.3\tvalid_1's l2: 22729.3\n",
      "[500]\ttraining's l2: 9287.08\tvalid_1's l2: 21128\n",
      "[600]\ttraining's l2: 7680.89\tvalid_1's l2: 20459.3\n",
      "[700]\ttraining's l2: 6587.77\tvalid_1's l2: 20126\n",
      "[800]\ttraining's l2: 5747.64\tvalid_1's l2: 19824.9\n",
      "[900]\ttraining's l2: 5114.45\tvalid_1's l2: 19599.4\n",
      "[1000]\ttraining's l2: 4615.31\tvalid_1's l2: 19452.1\n",
      "[1100]\ttraining's l2: 4204.89\tvalid_1's l2: 19346.6\n",
      "[1200]\ttraining's l2: 3858.8\tvalid_1's l2: 19318.5\n",
      "Early stopping, best iteration is:\n",
      "[1133]\ttraining's l2: 4084.54\tvalid_1's l2: 19270.4\n",
      "0.7958509408192211\n",
      "valid mean: 590.0651425971134\n",
      "true  mean: 620.0212121212121\n",
      "test  mean: 538.9575241667437\n",
      "--------------------------\n",
      "(1320, 2)\n",
      "---\n",
      "(0, 16)\n",
      "windows_var_features start\n"
     ]
    },
    {
     "name": "stderr",
     "output_type": "stream",
     "text": [
      "100%|██████████████████████████████████████████████████████████████████████████████| 1320/1320 [00:17<00:00, 75.08it/s]\n"
     ]
    },
    {
     "name": "stdout",
     "output_type": "stream",
     "text": [
      "windows_var_features end\n"
     ]
    },
    {
     "name": "stderr",
     "output_type": "stream",
     "text": [
      "100%|████████████████████████████████████████████████████████████████████████████████████| 3/3 [00:01<00:00,  2.27it/s]\n"
     ]
    },
    {
     "name": "stdout",
     "output_type": "stream",
     "text": [
      "(34320, 87)\n"
     ]
    },
    {
     "name": "stderr",
     "output_type": "stream",
     "text": [
      "100%|████████████████████████████████████████████████████████████████████████████████████| 3/3 [00:00<00:00,  6.69it/s]\n"
     ]
    },
    {
     "name": "stdout",
     "output_type": "stream",
     "text": [
      "(34320, 122)\n"
     ]
    },
    {
     "name": "stderr",
     "output_type": "stream",
     "text": [
      "100%|████████████████████████████████████████████████████████████████████████████████████| 3/3 [00:00<00:00,  5.86it/s]\n"
     ]
    },
    {
     "name": "stdout",
     "output_type": "stream",
     "text": [
      "xxxxxxxxxxxxxxxxxx\n",
      "110 110\n",
      "all_idx  : 8 25\n",
      "train_idx: 8 21\n",
      "valid_idx: 22 22\n",
      "test_idx : 26 26\n",
      "Training until validation scores don't improve for 100 rounds.\n",
      "[100]\ttraining's l2: 98996.7\tvalid_1's l2: 128179\n",
      "[200]\ttraining's l2: 30562.5\tvalid_1's l2: 45872.9\n",
      "[300]\ttraining's l2: 16666.1\tvalid_1's l2: 30186.4\n",
      "[400]\ttraining's l2: 12005.3\tvalid_1's l2: 26451.8\n",
      "[500]\ttraining's l2: 9536.32\tvalid_1's l2: 25191.8\n",
      "[600]\ttraining's l2: 7895.09\tvalid_1's l2: 24914.9\n",
      "[700]\ttraining's l2: 6729.44\tvalid_1's l2: 24737.1\n",
      "[800]\ttraining's l2: 5868.9\tvalid_1's l2: 24537.6\n",
      "[900]\ttraining's l2: 5251.12\tvalid_1's l2: 24335.7\n",
      "[1000]\ttraining's l2: 4733.63\tvalid_1's l2: 24080.1\n",
      "[1100]\ttraining's l2: 4303.02\tvalid_1's l2: 23916.5\n",
      "[1200]\ttraining's l2: 3938.54\tvalid_1's l2: 23728.9\n",
      "[1300]\ttraining's l2: 3627.91\tvalid_1's l2: 23551.2\n",
      "[1400]\ttraining's l2: 3357.37\tvalid_1's l2: 23438.9\n",
      "[1500]\ttraining's l2: 3110.93\tvalid_1's l2: 23333.9\n",
      "[1600]\ttraining's l2: 2900.16\tvalid_1's l2: 23250.8\n",
      "[1700]\ttraining's l2: 2720.81\tvalid_1's l2: 23218.6\n",
      "[1800]\ttraining's l2: 2557.95\tvalid_1's l2: 23130.8\n",
      "[1900]\ttraining's l2: 2406.53\tvalid_1's l2: 23056.5\n",
      "[2000]\ttraining's l2: 2277.63\tvalid_1's l2: 22962.1\n",
      "Did not meet early stopping. Best iteration is:\n",
      "[2000]\ttraining's l2: 2277.63\tvalid_1's l2: 22962.1\n",
      "0.8004066828129235\n",
      "valid mean: 639.610017815733\n",
      "true  mean: 649.3121212121212\n",
      "test  mean: 350.64889237009766\n",
      "--------------------------\n",
      "(1320, 2)\n",
      "---\n",
      "(0, 16)\n",
      "windows_var_features start\n"
     ]
    },
    {
     "name": "stderr",
     "output_type": "stream",
     "text": [
      "100%|██████████████████████████████████████████████████████████████████████████████| 1320/1320 [00:17<00:00, 74.06it/s]\n"
     ]
    },
    {
     "name": "stdout",
     "output_type": "stream",
     "text": [
      "windows_var_features end\n"
     ]
    },
    {
     "name": "stderr",
     "output_type": "stream",
     "text": [
      "100%|████████████████████████████████████████████████████████████████████████████████████| 3/3 [00:01<00:00,  2.27it/s]\n"
     ]
    },
    {
     "name": "stdout",
     "output_type": "stream",
     "text": [
      "(34320, 87)\n"
     ]
    },
    {
     "name": "stderr",
     "output_type": "stream",
     "text": [
      "100%|████████████████████████████████████████████████████████████████████████████████████| 3/3 [00:00<00:00,  6.75it/s]\n"
     ]
    },
    {
     "name": "stdout",
     "output_type": "stream",
     "text": [
      "(34320, 122)\n"
     ]
    },
    {
     "name": "stderr",
     "output_type": "stream",
     "text": [
      "100%|████████████████████████████████████████████████████████████████████████████████████| 3/3 [00:00<00:00,  6.06it/s]\n"
     ]
    },
    {
     "name": "stdout",
     "output_type": "stream",
     "text": [
      "xxxxxxxxxxxxxxxxxx\n",
      "110 110\n",
      "all_idx  : 8 26\n",
      "train_idx: 8 22\n",
      "valid_idx: 23 23\n",
      "test_idx : 27 27\n",
      "Training until validation scores don't improve for 100 rounds.\n",
      "[100]\ttraining's l2: 100279\tvalid_1's l2: 110695\n",
      "[200]\ttraining's l2: 30810.6\tvalid_1's l2: 52438.8\n",
      "[300]\ttraining's l2: 16862.1\tvalid_1's l2: 47439.4\n",
      "[400]\ttraining's l2: 12233.4\tvalid_1's l2: 47450.7\n",
      "Early stopping, best iteration is:\n",
      "[308]\ttraining's l2: 16328.8\tvalid_1's l2: 47375.2\n",
      "0.716926493088911\n",
      "valid mean: 632.162568055799\n",
      "true  mean: 616.5537878787878\n",
      "test  mean: 481.6671237309816\n",
      "--------------------------\n",
      "(1320, 2)\n",
      "---\n",
      "(0, 16)\n",
      "windows_var_features start\n"
     ]
    },
    {
     "name": "stderr",
     "output_type": "stream",
     "text": [
      "100%|██████████████████████████████████████████████████████████████████████████████| 1320/1320 [00:18<00:00, 51.71it/s]\n"
     ]
    },
    {
     "name": "stdout",
     "output_type": "stream",
     "text": [
      "windows_var_features end\n"
     ]
    },
    {
     "name": "stderr",
     "output_type": "stream",
     "text": [
      "100%|████████████████████████████████████████████████████████████████████████████████████| 3/3 [00:01<00:00,  2.24it/s]\n"
     ]
    },
    {
     "name": "stdout",
     "output_type": "stream",
     "text": [
      "(34320, 87)\n"
     ]
    },
    {
     "name": "stderr",
     "output_type": "stream",
     "text": [
      "100%|████████████████████████████████████████████████████████████████████████████████████| 3/3 [00:00<00:00,  6.81it/s]\n"
     ]
    },
    {
     "name": "stdout",
     "output_type": "stream",
     "text": [
      "(34320, 122)\n"
     ]
    },
    {
     "name": "stderr",
     "output_type": "stream",
     "text": [
      "100%|████████████████████████████████████████████████████████████████████████████████████| 3/3 [00:00<00:00,  6.12it/s]\n"
     ]
    },
    {
     "name": "stdout",
     "output_type": "stream",
     "text": [
      "xxxxxxxxxxxxxxxxxx\n",
      "110 110\n",
      "all_idx  : 8 27\n",
      "train_idx: 8 23\n",
      "valid_idx: 24 24\n",
      "test_idx : 28 28\n",
      "Training until validation scores don't improve for 100 rounds.\n",
      "[100]\ttraining's l2: 101390\tvalid_1's l2: 156231\n",
      "[200]\ttraining's l2: 31561.2\tvalid_1's l2: 57376.8\n",
      "[300]\ttraining's l2: 17624.9\tvalid_1's l2: 37763.2\n",
      "[400]\ttraining's l2: 12947.8\tvalid_1's l2: 33016.2\n",
      "[500]\ttraining's l2: 10370.8\tvalid_1's l2: 31282.4\n",
      "[600]\ttraining's l2: 8634.07\tvalid_1's l2: 30444.9\n",
      "[700]\ttraining's l2: 7453.23\tvalid_1's l2: 29936.5\n",
      "[800]\ttraining's l2: 6568.3\tvalid_1's l2: 29704.4\n",
      "[900]\ttraining's l2: 5906.41\tvalid_1's l2: 29521.7\n",
      "Early stopping, best iteration is:\n",
      "[876]\ttraining's l2: 6041\tvalid_1's l2: 29449.2\n",
      "0.7984281074939382\n",
      "valid mean: 672.7943300750736\n",
      "true  mean: 673.0143939393939\n",
      "test  mean: 462.04289110920314\n",
      "--------------------------\n",
      "(1320, 2)\n",
      "---\n",
      "(0, 16)\n"
     ]
    }
   ],
   "source": [
    "for month in [25,26,27,28]: \n",
    "#     judge = month-20\n",
    "    m_type = 'lgb'\n",
    "    data = Cluster(data,month)\n",
    "    data_df = windows_feature(data)\n",
    "    data_df2, stat_feat = get_stat_feature(data_df)\n",
    "    data_df3, stat2_feat = get_stat_feature2(data_df2)\n",
    "    data_df4, stat3_feat = get_stat_feature3(data_df3)\n",
    "\n",
    "    win_feat = ['windows3_var','windows5_var','windows7_var']\n",
    "#     winPop_feat = ['windowsPop4_var','windowsPop4_std','windowsPop5_var','windowsPop5_std','windowsPop12_var','windowsPop12_std']\n",
    "#     ,'windows6_var','windows6_std']\n",
    "#     qushi_feat = ['ratio2','differ2']\n",
    "    num_feat = ['regYear','regMonth'] + stat_feat+stat2_feat+stat3_feat +win_feat#,'windows_var','windows_std'\n",
    "    cate_feat = ['adcode','bodyType','model','model_adcode','body_adcode','cluster_label']\n",
    "\n",
    "    if m_type == 'lgb':\n",
    "        for i in cate_feat:\n",
    "            data_df4[i] = data_df4[i].astype('category')\n",
    "    elif m_type == 'xgb':\n",
    "        lbl = LabelEncoder()  \n",
    "        for i in tqdm(cate_feat):\n",
    "            data_df[i] = lbl.fit_transform(data_df[i].astype(str))\n",
    "\n",
    "    features = num_feat + cate_feat\n",
    "    print(\"xxxxxxxxxxxxxxxxxx\")\n",
    "    print(len(features), len(set(features)))\n",
    "    sub,val_pred = get_train_model(data_df4, month, m_type)\n",
    "#     online_test_idx  = (data_df4['mt'].between(21  , 24  ))\n",
    "    print(\"---\")\n",
    "    print(data.loc[(data.regMonth==month)].shape)\n",
    "    data.loc[(data.mt==month), 'salesVolume'   ] = sub['forecastVolum'].values\n",
    "    data.loc[(data.mt==(month)), 'label'      ] = sub['forecastVolum'].values\n",
    "    data.loc[(data.mt==(month)), 'pred_label'      ] = sub['forecastVolum'].values\n",
    "#     data['n_label'] = data['label'] / data['model_weight']\n",
    "\n",
    "    # # sub = data.loc[(data.regMonth>=1)&(data.regYear==2018), ['id','salesVolume']]\n",
    "# # sub.columns = ['id','forecastVolum']\n",
    "# # sub[['id','forecastVolum']].round().astype(int).to_csv('submit/yulao_lgb.csv', index=False)\n",
    "# best_score = online_score(data[online_test_idx]) "
   ]
  },
  {
   "cell_type": "code",
   "execution_count": 34,
   "metadata": {},
   "outputs": [
    {
     "name": "stdout",
     "output_type": "stream",
     "text": [
      "       id  forecastVolum\n",
      "31680   1          267.0\n",
      "31681   2          306.0\n",
      "31682   3          176.0\n",
      "31683   4          320.0\n",
      "31684   5          333.0\n",
      "         id  forecastVolum\n",
      "36955  5364           55.0\n",
      "36956  5365           55.0\n",
      "36957  5366           77.0\n",
      "36958  5367          198.0\n",
      "36959  5368           45.0\n"
     ]
    }
   ],
   "source": [
    "sub = data.loc[(data.regMonth>=1)&(data.regYear==2018), ['id','salesVolume']]\n",
    "sub.columns = ['id','forecastVolum']\n",
    "print(sub.head())\n",
    "print(sub.tail())"
   ]
  },
  {
   "cell_type": "code",
   "execution_count": 12,
   "metadata": {},
   "outputs": [
    {
     "name": "stdout",
     "output_type": "stream",
     "text": [
      "       id  forecastVolum\n",
      "31680   1          279.0\n",
      "31681   2          312.0\n",
      "31682   3          161.0\n",
      "31683   4          295.0\n",
      "31684   5          352.0\n",
      "         id  forecastVolum\n",
      "36955  5364          100.0\n",
      "36956  5365           94.0\n",
      "36957  5366           95.0\n",
      "36958  5367          213.0\n",
      "36959  5368           69.0\n"
     ]
    }
   ],
   "source": [
    "sub = data.loc[(data.regMonth>=1)&(data.regYear==2018), ['id','salesVolume']]\n",
    "sub.columns = ['id','forecastVolum']\n",
    "print(sub.head())\n",
    "print(sub.tail())"
   ]
  },
  {
   "cell_type": "code",
   "execution_count": 35,
   "metadata": {},
   "outputs": [],
   "source": [
    "sub[['id','forecastVolum']].round().astype(int).to_csv('submit/lgb_no_12.csv', index=False)"
   ]
  },
  {
   "cell_type": "code",
   "execution_count": 113,
   "metadata": {},
   "outputs": [
    {
     "name": "stderr",
     "output_type": "stream",
     "text": [
      "100%|████████████████████████████████████████████████████████████████████████████████████| 2/2 [00:01<00:00,  2.07it/s]\n"
     ]
    },
    {
     "name": "stdout",
     "output_type": "stream",
     "text": [
      "all_idx  : 9 20\n",
      "train_idx: 9 16\n",
      "valid_idx: 17 17\n",
      "test_idx : 21 21\n",
      "Training until validation scores don't improve for 100 rounds.\n",
      "[100]\ttraining's l2: 128712\tvalid_1's l2: 98700.9\n",
      "[200]\ttraining's l2: 41958.5\tvalid_1's l2: 38841.5\n",
      "[300]\ttraining's l2: 23711.2\tvalid_1's l2: 28937.2\n",
      "[400]\ttraining's l2: 17316.6\tvalid_1's l2: 26511.4\n",
      "[500]\ttraining's l2: 13789.8\tvalid_1's l2: 25838.3\n",
      "[600]\ttraining's l2: 11344.6\tvalid_1's l2: 25413.5\n",
      "[700]\ttraining's l2: 9716.53\tvalid_1's l2: 25005.3\n",
      "[800]\ttraining's l2: 8521.85\tvalid_1's l2: 24786.1\n",
      "[900]\ttraining's l2: 7601.14\tvalid_1's l2: 24786.9\n",
      "[1000]\ttraining's l2: 6807.82\tvalid_1's l2: 24710.5\n",
      "[1100]\ttraining's l2: 6154.66\tvalid_1's l2: 24588.3\n",
      "[1200]\ttraining's l2: 5603.01\tvalid_1's l2: 24436.2\n",
      "[1300]\ttraining's l2: 5128.15\tvalid_1's l2: 24299.6\n",
      "[1400]\ttraining's l2: 4756.47\tvalid_1's l2: 24098.7\n",
      "[1500]\ttraining's l2: 4411.44\tvalid_1's l2: 23997.3\n",
      "[1600]\ttraining's l2: 4081.94\tvalid_1's l2: 23915.1\n",
      "[1700]\ttraining's l2: 3801.56\tvalid_1's l2: 23785.2\n",
      "[1800]\ttraining's l2: 3551.93\tvalid_1's l2: 23733.7\n",
      "[1900]\ttraining's l2: 3322.77\tvalid_1's l2: 23685.3\n",
      "[2000]\ttraining's l2: 3105.34\tvalid_1's l2: 23583.8\n",
      "Did not meet early stopping. Best iteration is:\n",
      "[2000]\ttraining's l2: 3105.34\tvalid_1's l2: 23583.8\n",
      "0.7973272983520384\n",
      "valid mean: 497.2429189926641\n",
      "true  mean: 534.5318181818182\n",
      "test  mean: 641.6628984132291\n",
      "(1320, 2)\n"
     ]
    },
    {
     "name": "stderr",
     "output_type": "stream",
     "text": [
      "100%|████████████████████████████████████████████████████████████████████████████████████| 2/2 [00:01<00:00,  2.20it/s]\n"
     ]
    },
    {
     "name": "stdout",
     "output_type": "stream",
     "text": [
      "all_idx  : 9 21\n",
      "train_idx: 9 17\n",
      "valid_idx: 18 18\n",
      "test_idx : 22 22\n",
      "Training until validation scores don't improve for 100 rounds.\n",
      "[100]\ttraining's l2: 124896\tvalid_1's l2: 101622\n",
      "[200]\ttraining's l2: 41221.5\tvalid_1's l2: 40668.4\n",
      "[300]\ttraining's l2: 23551.2\tvalid_1's l2: 30796.4\n",
      "[400]\ttraining's l2: 17247.5\tvalid_1's l2: 28629.1\n",
      "[500]\ttraining's l2: 13644.1\tvalid_1's l2: 28447.5\n",
      "[600]\ttraining's l2: 11311.3\tvalid_1's l2: 28214.8\n",
      "[700]\ttraining's l2: 9665.8\tvalid_1's l2: 28306.6\n",
      "Early stopping, best iteration is:\n",
      "[602]\ttraining's l2: 11275.5\tvalid_1's l2: 28202.4\n",
      "0.7483585609319627\n",
      "valid mean: 547.3275192104005\n",
      "true  mean: 523.3159090909091\n",
      "test  mean: 648.8015280661291\n",
      "(1320, 2)\n"
     ]
    },
    {
     "name": "stderr",
     "output_type": "stream",
     "text": [
      "100%|████████████████████████████████████████████████████████████████████████████████████| 2/2 [00:01<00:00,  1.75it/s]\n"
     ]
    },
    {
     "name": "stdout",
     "output_type": "stream",
     "text": [
      "all_idx  : 9 22\n",
      "train_idx: 9 18\n",
      "valid_idx: 19 19\n",
      "test_idx : 23 23\n",
      "Training until validation scores don't improve for 100 rounds.\n",
      "[100]\ttraining's l2: 121129\tvalid_1's l2: 101400\n",
      "[200]\ttraining's l2: 40304.7\tvalid_1's l2: 38675.6\n",
      "[300]\ttraining's l2: 23218.8\tvalid_1's l2: 27340.3\n",
      "[400]\ttraining's l2: 17179.7\tvalid_1's l2: 24853.9\n",
      "[500]\ttraining's l2: 13713.1\tvalid_1's l2: 23959.2\n",
      "[600]\ttraining's l2: 11471.2\tvalid_1's l2: 23400.8\n",
      "[700]\ttraining's l2: 9962.11\tvalid_1's l2: 22931.2\n",
      "[800]\ttraining's l2: 8881.21\tvalid_1's l2: 22567.1\n",
      "[900]\ttraining's l2: 8007.93\tvalid_1's l2: 22383.6\n",
      "[1000]\ttraining's l2: 7299.37\tvalid_1's l2: 22289.3\n",
      "[1100]\ttraining's l2: 6668.06\tvalid_1's l2: 22270.3\n",
      "[1200]\ttraining's l2: 6149.12\tvalid_1's l2: 22150.4\n",
      "Early stopping, best iteration is:\n",
      "[1196]\ttraining's l2: 6170.05\tvalid_1's l2: 22128.1\n",
      "0.7468931536269028\n",
      "valid mean: 560.7094271141314\n",
      "true  mean: 552.2295454545455\n",
      "test  mean: 734.8046071367794\n",
      "(1320, 2)\n"
     ]
    },
    {
     "name": "stderr",
     "output_type": "stream",
     "text": [
      "100%|████████████████████████████████████████████████████████████████████████████████████| 2/2 [00:01<00:00,  2.18it/s]\n"
     ]
    },
    {
     "name": "stdout",
     "output_type": "stream",
     "text": [
      "all_idx  : 9 23\n",
      "train_idx: 9 19\n",
      "valid_idx: 20 20\n",
      "test_idx : 24 24\n",
      "Training until validation scores don't improve for 100 rounds.\n",
      "[100]\ttraining's l2: 118772\tvalid_1's l2: 145395\n",
      "[200]\ttraining's l2: 39386.3\tvalid_1's l2: 51071.7\n",
      "[300]\ttraining's l2: 22711.1\tvalid_1's l2: 32006.2\n",
      "[400]\ttraining's l2: 17040\tvalid_1's l2: 27020.4\n",
      "[500]\ttraining's l2: 13774.6\tvalid_1's l2: 25125.4\n",
      "[600]\ttraining's l2: 11675.5\tvalid_1's l2: 24421\n",
      "[700]\ttraining's l2: 10208\tvalid_1's l2: 24129.7\n",
      "[800]\ttraining's l2: 9205.22\tvalid_1's l2: 23964.6\n",
      "[900]\ttraining's l2: 8388.5\tvalid_1's l2: 23799.9\n",
      "[1000]\ttraining's l2: 7727.56\tvalid_1's l2: 23768.7\n",
      "Early stopping, best iteration is:\n",
      "[989]\ttraining's l2: 7801.96\tvalid_1's l2: 23734.8\n",
      "0.7917019686244774\n",
      "valid mean: 595.4352742803294\n",
      "true  mean: 620.0212121212121\n",
      "test  mean: 856.408786058386\n",
      "(1320, 2)\n"
     ]
    }
   ],
   "source": [
    "for month in [21,22,23,24]: \n",
    "    m_type = 'lgb' \n",
    "    \n",
    "    data_df, stat_feat = get_stat_feature(data)\n",
    "    \n",
    "    num_feat = ['regYear','regMonth'] + stat_feat\n",
    "    cate_feat = ['adcode','bodyType','model']\n",
    "    \n",
    "    if m_type == 'lgb':\n",
    "        for i in cate_feat:\n",
    "            data_df[i] = data_df[i].astype('category')\n",
    "    elif m_type == 'xgb':\n",
    "        lbl = LabelEncoder()  \n",
    "        for i in tqdm(cate_feat):\n",
    "            data_df[i] = lbl.fit_transform(data_df[i].astype(str))\n",
    "           \n",
    "    features = num_feat + cate_feat\n",
    "#     print(len(features), len(set(features)))   \n",
    "    \n",
    "    sub,val_pred = get_train_model(data_df, month, m_type)   \n",
    "    data.loc[(data.mt==month), 'salesVolume'] = sub['forecastVolum'].values\n",
    "    data.loc[(data.mt==month), 'label'      ] = sub['forecastVolum'].values\n",
    "    data.loc[(data.mt==(month)), 'pred_label'      ] = sub['forecastVolum'].values\n",
    "    \n",
    "    \n",
    "    \n",
    "    \n",
    "    \n",
    "# sub = data.loc[(data.regMonth>=1)&(data.regYear==2018), ['id','salesVolume']]\n",
    "# sub.columns = ['id','forecastVolum']\n",
    "# sub[['id','forecastVolum']].round().astype(int).to_csv('CCF_sales.csv', index=False)\n"
   ]
  },
  {
   "cell_type": "code",
   "execution_count": 68,
   "metadata": {},
   "outputs": [
    {
     "name": "stderr",
     "output_type": "stream",
     "text": [
      "100%|████████████████████████████████████████████████████████████████████████████████████| 4/4 [00:02<00:00,  1.37it/s]\n"
     ]
    },
    {
     "name": "stdout",
     "output_type": "stream",
     "text": [
      "all_idx  : 13 24\n",
      "train_idx: 13 20\n",
      "valid_idx: 21 21\n",
      "test_idx : 25 25\n",
      "Training until validation scores don't improve for 100 rounds.\n",
      "[100]\ttraining's l2: 86584.9\tvalid_1's l2: 151719\n",
      "[200]\ttraining's l2: 27784.3\tvalid_1's l2: 71704.5\n",
      "[300]\ttraining's l2: 14902.5\tvalid_1's l2: 57361.3\n",
      "[400]\ttraining's l2: 10243.5\tvalid_1's l2: 52224.7\n",
      "[500]\ttraining's l2: 7869.38\tvalid_1's l2: 50304.7\n",
      "[600]\ttraining's l2: 6385.06\tvalid_1's l2: 49569.7\n",
      "[700]\ttraining's l2: 5380.65\tvalid_1's l2: 48911.9\n",
      "[800]\ttraining's l2: 4634.41\tvalid_1's l2: 48274\n",
      "[900]\ttraining's l2: 4071.47\tvalid_1's l2: 48026.2\n",
      "[1000]\ttraining's l2: 3625\tvalid_1's l2: 47641.9\n",
      "[1100]\ttraining's l2: 3253.2\tvalid_1's l2: 47425.4\n",
      "[1200]\ttraining's l2: 2928.61\tvalid_1's l2: 47143.3\n",
      "[1300]\ttraining's l2: 2653.04\tvalid_1's l2: 46870.8\n",
      "[1400]\ttraining's l2: 2414.07\tvalid_1's l2: 46669.9\n",
      "[1500]\ttraining's l2: 2207.68\tvalid_1's l2: 46487.6\n",
      "[1600]\ttraining's l2: 2028.06\tvalid_1's l2: 46336.7\n",
      "[1700]\ttraining's l2: 1876.96\tvalid_1's l2: 46208.4\n",
      "[1800]\ttraining's l2: 1749.37\tvalid_1's l2: 46176.2\n",
      "[1900]\ttraining's l2: 1632.35\tvalid_1's l2: 46079.2\n",
      "[2000]\ttraining's l2: 1525.02\tvalid_1's l2: 46029.5\n",
      "[2100]\ttraining's l2: 1420.06\tvalid_1's l2: 45984.2\n",
      "[2200]\ttraining's l2: 1322.58\tvalid_1's l2: 45885.2\n",
      "Early stopping, best iteration is:\n",
      "[2188]\ttraining's l2: 1333.16\tvalid_1's l2: 45878\n",
      "0.7657263463789578\n"
     ]
    },
    {
     "name": "stderr",
     "output_type": "stream",
     "text": [
      "100%|████████████████████████████████████████████████████████████████████████████████████| 4/4 [00:02<00:00,  1.41it/s]\n"
     ]
    },
    {
     "name": "stdout",
     "output_type": "stream",
     "text": [
      "all_idx  : 13 25\n",
      "train_idx: 13 21\n",
      "valid_idx: 22 22\n",
      "test_idx : 26 26\n",
      "Training until validation scores don't improve for 100 rounds.\n",
      "[100]\ttraining's l2: 90083.5\tvalid_1's l2: 118412\n",
      "[200]\ttraining's l2: 28475.8\tvalid_1's l2: 59906.1\n",
      "[300]\ttraining's l2: 15309.6\tvalid_1's l2: 52080.3\n",
      "[400]\ttraining's l2: 10785.7\tvalid_1's l2: 50404.3\n",
      "[500]\ttraining's l2: 8324.54\tvalid_1's l2: 49632.1\n",
      "[600]\ttraining's l2: 6828.3\tvalid_1's l2: 49046.4\n",
      "[700]\ttraining's l2: 5813.9\tvalid_1's l2: 48997.8\n",
      "Early stopping, best iteration is:\n",
      "[648]\ttraining's l2: 6301.83\tvalid_1's l2: 48762.4\n",
      "0.7352932759641437\n"
     ]
    },
    {
     "name": "stderr",
     "output_type": "stream",
     "text": [
      "100%|████████████████████████████████████████████████████████████████████████████████████| 4/4 [00:02<00:00,  1.40it/s]\n"
     ]
    },
    {
     "name": "stdout",
     "output_type": "stream",
     "text": [
      "all_idx  : 13 26\n",
      "train_idx: 13 22\n",
      "valid_idx: 23 23\n",
      "test_idx : 27 27\n",
      "Training until validation scores don't improve for 100 rounds.\n",
      "[100]\ttraining's l2: 93591.6\tvalid_1's l2: 135289\n",
      "[200]\ttraining's l2: 29582.9\tvalid_1's l2: 52574.8\n",
      "[300]\ttraining's l2: 15864.8\tvalid_1's l2: 39181.2\n",
      "[400]\ttraining's l2: 11154.7\tvalid_1's l2: 36023.5\n",
      "[500]\ttraining's l2: 8739.67\tvalid_1's l2: 35331.5\n",
      "[600]\ttraining's l2: 7173.39\tvalid_1's l2: 34526.5\n",
      "[700]\ttraining's l2: 6126.06\tvalid_1's l2: 34402.5\n",
      "[800]\ttraining's l2: 5347.97\tvalid_1's l2: 34349\n",
      "[900]\ttraining's l2: 4770.82\tvalid_1's l2: 34426\n",
      "Early stopping, best iteration is:\n",
      "[806]\ttraining's l2: 5308.31\tvalid_1's l2: 34325.1\n",
      "0.7811424903161602\n"
     ]
    },
    {
     "name": "stderr",
     "output_type": "stream",
     "text": [
      "100%|████████████████████████████████████████████████████████████████████████████████████| 4/4 [00:02<00:00,  1.38it/s]\n"
     ]
    },
    {
     "name": "stdout",
     "output_type": "stream",
     "text": [
      "all_idx  : 13 27\n",
      "train_idx: 13 23\n",
      "valid_idx: 24 24\n",
      "test_idx : 28 28\n",
      "Training until validation scores don't improve for 100 rounds.\n",
      "[100]\ttraining's l2: 96023.9\tvalid_1's l2: 552065\n",
      "[200]\ttraining's l2: 29709.3\tvalid_1's l2: 354551\n",
      "[300]\ttraining's l2: 16067.9\tvalid_1's l2: 299015\n",
      "[400]\ttraining's l2: 11490.5\tvalid_1's l2: 282547\n",
      "[500]\ttraining's l2: 9067.98\tvalid_1's l2: 274322\n",
      "[600]\ttraining's l2: 7522.51\tvalid_1's l2: 271372\n",
      "[700]\ttraining's l2: 6477.28\tvalid_1's l2: 271395\n",
      "Early stopping, best iteration is:\n",
      "[658]\ttraining's l2: 6879.88\tvalid_1's l2: 270441\n",
      "0.6226761089064834\n"
     ]
    }
   ],
   "source": [
    "for month in [21,22,23,24]: \n",
    "    m_type = 'lgb' \n",
    "    \n",
    "    data_df, stat_feat = get_stat_feature(data)\n",
    "    \n",
    "    num_feat = ['regYear','regMonth','popularity'] + stat_feat\n",
    "    cate_feat = ['adcode','bodyType','model']\n",
    "    \n",
    "    if m_type == 'lgb':\n",
    "        for i in cate_feat:\n",
    "            data_df[i] = data_df[i].astype('category')\n",
    "    elif m_type == 'xgb':\n",
    "        lbl = LabelEncoder()  \n",
    "        for i in tqdm(cate_feat):\n",
    "            data_df[i] = lbl.fit_transform(data_df[i].astype(str))\n",
    "           \n",
    "    features = num_feat + cate_feat\n",
    "#     print(len(features), len(set(features)))   \n",
    "    \n",
    "    sub,val_pred = get_train_model(data_df, month, m_type)   \n",
    "    data.loc[(data.regMonth==(month-24))&(data.regYear==2018), 'salesVolume'] = sub['forecastVolum'].values\n",
    "    data.loc[(data.regMonth==(month-24))&(data.regYear==2018), 'label'      ] = sub['forecastVolum'].values\n",
    "#     data.loc[(data.mt==(month)), 'pred_label'      ] = sub['forecastVolum'].values\n",
    "    \n",
    "    \n",
    "    \n",
    "    \n",
    "    \n",
    "sub = data.loc[(data.regMonth>=1)&(data.regYear==2018), ['id','salesVolume']]\n",
    "sub.columns = ['id','forecastVolum']\n",
    "# sub[['id','forecastVolum']].round().astype(int).to_csv('CCF_sales.csv', index=False)\n"
   ]
  },
  {
   "cell_type": "code",
   "execution_count": 69,
   "metadata": {},
   "outputs": [],
   "source": [
    "sub[['id','forecastVolum']].round().astype(int).to_csv('CCF_sales0914.csv', index=False)"
   ]
  },
  {
   "cell_type": "code",
   "execution_count": 38,
   "metadata": {},
   "outputs": [
    {
     "name": "stderr",
     "output_type": "stream",
     "text": [
      "100%|████████████████████████████████████████████████████████████████████████████████████| 4/4 [00:05<00:00,  1.38s/it]\n"
     ]
    },
    {
     "name": "stdout",
     "output_type": "stream",
     "text": [
      "53 53\n",
      "all_idx  : 13 24\n",
      "train_idx: 13 20\n",
      "valid_idx: 21 21\n",
      "test_idx : 25 25\n",
      "Training until validation scores don't improve for 100 rounds.\n",
      "[100]\ttraining's l2: 7291.26\tvalid_1's l2: 37932.3\n",
      "[200]\ttraining's l2: 3715.93\tvalid_1's l2: 35716.9\n",
      "[300]\ttraining's l2: 2515.27\tvalid_1's l2: 35194.8\n",
      "[400]\ttraining's l2: 1831.38\tvalid_1's l2: 34788.8\n",
      "[500]\ttraining's l2: 1397.64\tvalid_1's l2: 34608.6\n",
      "[600]\ttraining's l2: 1065.51\tvalid_1's l2: 34527.1\n",
      "[700]\ttraining's l2: 849.095\tvalid_1's l2: 34415.2\n",
      "[800]\ttraining's l2: 679.238\tvalid_1's l2: 34333.1\n",
      "[900]\ttraining's l2: 545.247\tvalid_1's l2: 34326.4\n",
      "Early stopping, best iteration is:\n",
      "[838]\ttraining's l2: 624.086\tvalid_1's l2: 34316.6\n",
      "0.7559303097480222\n",
      "valid mean: 602.8972278482273\n",
      "true  mean: 649.3121212121212\n",
      "test  mean: 493.9801201875369\n"
     ]
    },
    {
     "name": "stderr",
     "output_type": "stream",
     "text": [
      "100%|████████████████████████████████████████████████████████████████████████████████████| 4/4 [00:05<00:00,  1.35s/it]\n"
     ]
    },
    {
     "name": "stdout",
     "output_type": "stream",
     "text": [
      "53 53\n",
      "all_idx  : 13 25\n",
      "train_idx: 13 21\n",
      "valid_idx: 22 22\n",
      "test_idx : 26 26\n",
      "Training until validation scores don't improve for 100 rounds.\n",
      "[100]\ttraining's l2: 7936.91\tvalid_1's l2: 41558.5\n",
      "Early stopping, best iteration is:\n",
      "[75]\ttraining's l2: 10761.5\tvalid_1's l2: 41117.3\n",
      "0.7414955122487169\n",
      "valid mean: 623.4500376146684\n",
      "true  mean: 616.5537878787878\n",
      "test  mean: 324.6451813135614\n"
     ]
    },
    {
     "name": "stderr",
     "output_type": "stream",
     "text": [
      "100%|████████████████████████████████████████████████████████████████████████████████████| 4/4 [00:05<00:00,  1.36s/it]\n"
     ]
    },
    {
     "name": "stdout",
     "output_type": "stream",
     "text": [
      "53 53\n",
      "all_idx  : 13 26\n",
      "train_idx: 13 22\n",
      "valid_idx: 23 23\n",
      "test_idx : 27 27\n",
      "Training until validation scores don't improve for 100 rounds.\n",
      "[100]\ttraining's l2: 8653.84\tvalid_1's l2: 32560.4\n",
      "[200]\ttraining's l2: 4627.91\tvalid_1's l2: 32133.2\n",
      "Early stopping, best iteration is:\n",
      "[155]\ttraining's l2: 5757.15\tvalid_1's l2: 31853.4\n",
      "0.7794578141087838\n",
      "valid mean: 639.6227869473659\n",
      "true  mean: 673.0143939393939\n",
      "test  mean: 479.55100257280156\n"
     ]
    },
    {
     "name": "stderr",
     "output_type": "stream",
     "text": [
      "100%|████████████████████████████████████████████████████████████████████████████████████| 4/4 [00:05<00:00,  1.40s/it]\n"
     ]
    },
    {
     "name": "stdout",
     "output_type": "stream",
     "text": [
      "53 53\n",
      "all_idx  : 13 27\n",
      "train_idx: 13 23\n",
      "valid_idx: 24 24\n",
      "test_idx : 28 28\n",
      "Training until validation scores don't improve for 100 rounds.\n",
      "[100]\ttraining's l2: 9306.24\tvalid_1's l2: 302435\n",
      "[200]\ttraining's l2: 5107.21\tvalid_1's l2: 292129\n",
      "[300]\ttraining's l2: 3583.18\tvalid_1's l2: 289373\n",
      "[400]\ttraining's l2: 2709.06\tvalid_1's l2: 288389\n",
      "[500]\ttraining's l2: 2162.77\tvalid_1's l2: 287983\n",
      "[600]\ttraining's l2: 1746.75\tvalid_1's l2: 287504\n",
      "[700]\ttraining's l2: 1446.22\tvalid_1's l2: 287029\n",
      "[800]\ttraining's l2: 1196.94\tvalid_1's l2: 286429\n",
      "[900]\ttraining's l2: 1008.26\tvalid_1's l2: 286030\n",
      "Early stopping, best iteration is:\n",
      "[856]\ttraining's l2: 1089.91\tvalid_1's l2: 286004\n",
      "0.588139278724323\n",
      "valid mean: 645.3917897243205\n",
      "true  mean: 899.8204545454546\n",
      "test  mean: 468.0356962498267\n"
     ]
    }
   ],
   "source": [
    "for month in [25,26,27,28]: \n",
    "    m_type = 'lgb' \n",
    "    \n",
    "    data_df, stat_feat = get_stat_feature(data)\n",
    "    \n",
    "    num_feat = ['regYear'] + stat_feat\n",
    "    cate_feat = ['adcode','bodyType','model','regMonth']\n",
    "    \n",
    "    if m_type == 'lgb':\n",
    "        for i in cate_feat:\n",
    "            data_df[i] = data_df[i].astype('category')\n",
    "    elif m_type == 'xgb':\n",
    "        lbl = LabelEncoder()  \n",
    "        for i in tqdm(cate_feat):\n",
    "            data_df[i] = lbl.fit_transform(data_df[i].astype(str))\n",
    "           \n",
    "    features = num_feat + cate_feat\n",
    "    print(len(features), len(set(features)))   \n",
    "    \n",
    "    sub,val_pred = get_train_model(data_df, month, m_type)   \n",
    "    data.loc[(data.regMonth==(month-24))&(data.regYear==2018), 'salesVolume'] = sub['forecastVolum'].values\n",
    "    data.loc[(data.regMonth==(month-24))&(data.regYear==2018), 'label'      ] = sub['forecastVolum'].values\n",
    "sub = data.loc[(data.regMonth>=1)&(data.regYear==2018), ['id','salesVolume']]\n",
    "sub.columns = ['id','forecastVolum']\n",
    "# sub[['id','forecastVolum']].round().astype(int).to_csv('CCF_sales.csv', index=False)\n"
   ]
  }
 ],
 "metadata": {
  "kernelspec": {
   "display_name": "Python 3",
   "language": "python",
   "name": "python3"
  },
  "language_info": {
   "codemirror_mode": {
    "name": "ipython",
    "version": 3
   },
   "file_extension": ".py",
   "mimetype": "text/x-python",
   "name": "python",
   "nbconvert_exporter": "python",
   "pygments_lexer": "ipython3",
   "version": "3.5.6"
  }
 },
 "nbformat": 4,
 "nbformat_minor": 2
}
