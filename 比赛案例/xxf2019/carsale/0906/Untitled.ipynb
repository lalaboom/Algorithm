{
 "cells": [
  {
   "cell_type": "code",
   "execution_count": 3,
   "metadata": {},
   "outputs": [
    {
     "name": "stdout",
     "output_type": "stream",
     "text": [
      "      data1     data2 key1 key2\n",
      "0 -0.036785  0.714474    a  one\n",
      "1  1.580710 -0.619232    b  two\n",
      "2  1.514888  0.340799    a  one\n",
      "3 -0.157702 -0.099325    b  two\n",
      "4  1.031660 -0.004862    a  one\n"
     ]
    }
   ],
   "source": [
    "import pandas as pd\n",
    "import numpy as np \n",
    "df = pd.DataFrame({'key1':list('ababa'),\n",
    "  'key2': ['one','two','one','two','one'],\n",
    "  'data1': np.random.randn(5),\n",
    "  'data2': np.random.randn(5)})\n",
    "print(df)"
   ]
  },
  {
   "cell_type": "code",
   "execution_count": 11,
   "metadata": {},
   "outputs": [
    {
     "data": {
      "text/html": [
       "<div>\n",
       "<style scoped>\n",
       "    .dataframe tbody tr th:only-of-type {\n",
       "        vertical-align: middle;\n",
       "    }\n",
       "\n",
       "    .dataframe tbody tr th {\n",
       "        vertical-align: top;\n",
       "    }\n",
       "\n",
       "    .dataframe thead th {\n",
       "        text-align: right;\n",
       "    }\n",
       "</style>\n",
       "<table border=\"1\" class=\"dataframe\">\n",
       "  <thead>\n",
       "    <tr style=\"text-align: right;\">\n",
       "      <th></th>\n",
       "      <th>data1_x</th>\n",
       "      <th>data2_x</th>\n",
       "      <th>key1</th>\n",
       "      <th>key2</th>\n",
       "      <th>data1_y</th>\n",
       "      <th>data2_y</th>\n",
       "    </tr>\n",
       "  </thead>\n",
       "  <tbody>\n",
       "    <tr>\n",
       "      <td>0</td>\n",
       "      <td>-0.036785</td>\n",
       "      <td>0.714474</td>\n",
       "      <td>a</td>\n",
       "      <td>one</td>\n",
       "      <td>0.836588</td>\n",
       "      <td>0.350137</td>\n",
       "    </tr>\n",
       "    <tr>\n",
       "      <td>1</td>\n",
       "      <td>1.580710</td>\n",
       "      <td>-0.619232</td>\n",
       "      <td>b</td>\n",
       "      <td>two</td>\n",
       "      <td>0.711504</td>\n",
       "      <td>-0.359278</td>\n",
       "    </tr>\n",
       "    <tr>\n",
       "      <td>2</td>\n",
       "      <td>1.514888</td>\n",
       "      <td>0.340799</td>\n",
       "      <td>a</td>\n",
       "      <td>one</td>\n",
       "      <td>0.836588</td>\n",
       "      <td>0.350137</td>\n",
       "    </tr>\n",
       "    <tr>\n",
       "      <td>3</td>\n",
       "      <td>-0.157702</td>\n",
       "      <td>-0.099325</td>\n",
       "      <td>b</td>\n",
       "      <td>two</td>\n",
       "      <td>0.711504</td>\n",
       "      <td>-0.359278</td>\n",
       "    </tr>\n",
       "    <tr>\n",
       "      <td>4</td>\n",
       "      <td>1.031660</td>\n",
       "      <td>-0.004862</td>\n",
       "      <td>a</td>\n",
       "      <td>one</td>\n",
       "      <td>0.836588</td>\n",
       "      <td>0.350137</td>\n",
       "    </tr>\n",
       "  </tbody>\n",
       "</table>\n",
       "</div>"
      ],
      "text/plain": [
       "    data1_x   data2_x key1 key2   data1_y   data2_y\n",
       "0 -0.036785  0.714474    a  one  0.836588  0.350137\n",
       "1  1.580710 -0.619232    b  two  0.711504 -0.359278\n",
       "2  1.514888  0.340799    a  one  0.836588  0.350137\n",
       "3 -0.157702 -0.099325    b  two  0.711504 -0.359278\n",
       "4  1.031660 -0.004862    a  one  0.836588  0.350137"
      ]
     },
     "execution_count": 11,
     "metadata": {},
     "output_type": "execute_result"
    }
   ],
   "source": [
    "df2 = df.groupby('key1').mean()\n",
    "df2.reset_index()\n",
    "df = df.merge(df2, 'left',on = ['key1'])\n",
    "df"
   ]
  },
  {
   "cell_type": "code",
   "execution_count": 8,
   "metadata": {},
   "outputs": [
    {
     "data": {
      "text/html": [
       "<div>\n",
       "<style scoped>\n",
       "    .dataframe tbody tr th:only-of-type {\n",
       "        vertical-align: middle;\n",
       "    }\n",
       "\n",
       "    .dataframe tbody tr th {\n",
       "        vertical-align: top;\n",
       "    }\n",
       "\n",
       "    .dataframe thead th {\n",
       "        text-align: right;\n",
       "    }\n",
       "</style>\n",
       "<table border=\"1\" class=\"dataframe\">\n",
       "  <thead>\n",
       "    <tr style=\"text-align: right;\">\n",
       "      <th></th>\n",
       "      <th>index</th>\n",
       "      <th>data1</th>\n",
       "      <th>data2</th>\n",
       "      <th>key1</th>\n",
       "      <th>key2</th>\n",
       "    </tr>\n",
       "  </thead>\n",
       "  <tbody>\n",
       "    <tr>\n",
       "      <td>0</td>\n",
       "      <td>0</td>\n",
       "      <td>-0.036785</td>\n",
       "      <td>0.714474</td>\n",
       "      <td>a</td>\n",
       "      <td>one</td>\n",
       "    </tr>\n",
       "    <tr>\n",
       "      <td>1</td>\n",
       "      <td>1</td>\n",
       "      <td>1.580710</td>\n",
       "      <td>-0.619232</td>\n",
       "      <td>b</td>\n",
       "      <td>two</td>\n",
       "    </tr>\n",
       "    <tr>\n",
       "      <td>2</td>\n",
       "      <td>2</td>\n",
       "      <td>1.514888</td>\n",
       "      <td>0.340799</td>\n",
       "      <td>a</td>\n",
       "      <td>one</td>\n",
       "    </tr>\n",
       "    <tr>\n",
       "      <td>3</td>\n",
       "      <td>3</td>\n",
       "      <td>-0.157702</td>\n",
       "      <td>-0.099325</td>\n",
       "      <td>b</td>\n",
       "      <td>two</td>\n",
       "    </tr>\n",
       "    <tr>\n",
       "      <td>4</td>\n",
       "      <td>4</td>\n",
       "      <td>1.031660</td>\n",
       "      <td>-0.004862</td>\n",
       "      <td>a</td>\n",
       "      <td>one</td>\n",
       "    </tr>\n",
       "  </tbody>\n",
       "</table>\n",
       "</div>"
      ],
      "text/plain": [
       "   index     data1     data2 key1 key2\n",
       "0      0 -0.036785  0.714474    a  one\n",
       "1      1  1.580710 -0.619232    b  two\n",
       "2      2  1.514888  0.340799    a  one\n",
       "3      3 -0.157702 -0.099325    b  two\n",
       "4      4  1.031660 -0.004862    a  one"
      ]
     },
     "execution_count": 8,
     "metadata": {},
     "output_type": "execute_result"
    }
   ],
   "source": [
    "df.reset_index()"
   ]
  },
  {
   "cell_type": "code",
   "execution_count": 4,
   "metadata": {},
   "outputs": [
    {
     "name": "stdout",
     "output_type": "stream",
     "text": [
      "key1\n",
      "a    0.836588\n",
      "b    0.711504\n",
      "Name: data1, dtype: float64\n"
     ]
    }
   ],
   "source": [
    "grouped=df['data1'].groupby(df['key1'])\n",
    "print(grouped.mean())"
   ]
  }
 ],
 "metadata": {
  "kernelspec": {
   "display_name": "Python 3",
   "language": "python",
   "name": "python3"
  },
  "language_info": {
   "codemirror_mode": {
    "name": "ipython",
    "version": 3
   },
   "file_extension": ".py",
   "mimetype": "text/x-python",
   "name": "python",
   "nbconvert_exporter": "python",
   "pygments_lexer": "ipython3",
   "version": "3.5.6"
  }
 },
 "nbformat": 4,
 "nbformat_minor": 2
}
