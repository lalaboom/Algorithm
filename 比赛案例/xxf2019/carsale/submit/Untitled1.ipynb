{
 "cells": [
  {
   "cell_type": "code",
   "execution_count": 1,
   "metadata": {},
   "outputs": [],
   "source": [
    "import pandas as pd\n",
    "from sklearn.svm import SVR as svr  # SVM中的回归算法"
   ]
  },
  {
   "cell_type": "code",
   "execution_count": 2,
   "metadata": {},
   "outputs": [],
   "source": [
    "# sub1 = pd.read_csv(\"rongheguize_0902538.csv\")\n",
    "sub1 = pd.read_csv(\"guize_054.csv\")\n",
    "\n",
    "sub2 = pd.read_csv(\"evaluation_public_20190917_lgb.csv\")\n",
    "\n",
    "sub3 = pd.read_csv(\"tutusubmit02.csv\")\n",
    "\n",
    "sub4 = pd.read_csv(\"yulao_lgb.csv\")\n",
    "sub5 = pd.read_csv(\"yulao_xgb.csv\")\n",
    "\n",
    "# sub7 = pd.read_csv(\"zhang578.csv\")\n",
    "\n",
    "# sub8 = pd.read_csv(\"lgb092702.csv\")\n",
    "sub6 = pd.read_csv(\"xgb0929.csv\")"
   ]
  },
  {
   "cell_type": "code",
   "execution_count": null,
   "metadata": {},
   "outputs": [],
   "source": [
    "sub_all = pd.DataFrame()\n",
    "sub_all['id'] = sub1['id']\n",
    "sub_all['forecastVolum1'] = sub1['']"
   ]
  },
  {
   "cell_type": "code",
   "execution_count": null,
   "metadata": {},
   "outputs": [],
   "source": [
    "raw_data = np.loadtxt('regression.txt')  # 读取数据文件\n",
    "X = raw_data[:, :-1]  # 分割自变量\n",
    "y = raw_data[:, -1]  # 分割因变量\n",
    "# 训练回归模型\n",
    "n_folds = 5  # 设置交叉检验的次数\n",
    "model_svr = svr()  # 建立支持向量机回归模型对象\n",
    "# model_gbr = GradientBoostingRegressor()  # 建立梯度增强回归模型对象\n",
    "model_names = ['SVR']  # 不同模型的名称列表\n",
    "model_dic = [model_svr]  # 不同回归模型对象的集合\n",
    "cv_score_list = []  # 交叉检验结果列表\n",
    "sub = []  # 各个回归模型预测的y值列表\n",
    "for model in model_dic:  # 读出每个回归模型对象\n",
    "    scores = cross_val_score(model, X, y, cv=n_folds)  # 将每个回归模型导入交叉检验模型中做训练检验\n",
    "    cv_score_list.append(scores)  # 将交叉检验结果存入结果列表\n",
    "    pre_y_list.append(model.fit(X, y).predict(all_X))  # 将回归训练中得到的预测y存入列表\n",
    "# 模型效果指标评估\n",
    "n_samples, n_features = X.shape  # 总样本量,总特征数\n",
    "model_metrics_name = [mean_squared_error]  # 回归评估指标对象集\n",
    "model_metrics_list = []  # 回归评估指标列表\n",
    "for i in range(1):  # 循环每个模型索引\n",
    "    tmp_list = []  # 每个内循环的临时结果列表\n",
    "    for m in model_metrics_name:  # 循环每个指标对象\n",
    "        tmp_score = m(y, pre_y_list[i])  # 计算每个回归指标结果\n",
    "        tmp_list.append(tmp_score)  # 将结果存入每个内循环的临时结果列表\n",
    "    model_metrics_list.append(tmp_list)  # 将结果存入回归评估指标列表\n",
    "df1 = pd.DataFrame(cv_score_list, index=model_names)  # 建立交叉检验的数据框\n",
    "df2 = pd.DataFrame(model_metrics_list, index=model_names, columns=['ev', 'mae', 'mse', 'r2'])  # 建立回归指标的数据框\n",
    "print ('samples: %d \\t features: %d' % (n_samples, n_features))  # 打印输出样本量和特征数量"
   ]
  }
 ],
 "metadata": {
  "kernelspec": {
   "display_name": "Python 3",
   "language": "python",
   "name": "python3"
  },
  "language_info": {
   "codemirror_mode": {
    "name": "ipython",
    "version": 3
   },
   "file_extension": ".py",
   "mimetype": "text/x-python",
   "name": "python",
   "nbconvert_exporter": "python",
   "pygments_lexer": "ipython3",
   "version": "3.5.6"
  }
 },
 "nbformat": 4,
 "nbformat_minor": 2
}
